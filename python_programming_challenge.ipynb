{
 "cells": [
  {
   "cell_type": "markdown",
   "metadata": {},
   "source": [
    "# Python Programming Challenge\n",
    "\n",
    "## Poker Hand\n",
    "\n",
    "In this challenge, we have to determine which kind of Poker combination is present in a deck of 5 cards. Every card is a string containing the card value **with the upper-case initial for face-cards** and the **lower-case initial for the suit**, as seen in the examples below:\n",
    "\n",
    "> \"Ah\" ➞ Ace of hearts <br>\n",
    "> \"Ks\" ➞ King of spades<br>\n",
    "> \"3d\" ➞ Three of diamonds<br>\n",
    "> \"Qc\" ➞ Queen of clubs <br>\n",
    "\n",
    "There are 10 different combinations. Here's the list, in descending order of importance:"
   ]
  },
  {
   "cell_type": "markdown",
   "metadata": {},
   "source": [
    "| Name            | Description                                         |\n",
    "|-----------------|-----------------------------------------------------|\n",
    "| Royal Flush     | A, K, Q, J, 10, all with the same suit.             |\n",
    "| Straight Flush  | Five cards in sequence, all with the same suit.     |\n",
    "| Four of a Kind  | Four cards of the same rank.                        |\n",
    "| Full House      | Three of a Kind with a Pair.                        |\n",
    "| Flush           | Any five cards of the same suit, not in sequence    |\n",
    "| Straight        | Five cards in a sequence, but not of the same suit. |\n",
    "| Three of a Kind | Three cards of the same rank.                       |\n",
    "| Two Pair        | Two different Pairs.                                |\n",
    "| Pair            | Two cards of the same rank.                         |\n",
    "| High Card       | No other valid combination.                         |\n",
    "\n",
    "---------"
   ]
  },
  {
   "cell_type": "markdown",
   "metadata": {},
   "source": [
    "#### 1. Given a list `hand` containing five strings being the cards. Implement a function called `poker_hand_ranking` that **returns a string with the name of the highest combination obtained.** According to the table above.\n",
    "\n",
    "**Examples:**\n",
    "\n",
    "> poker_hand_ranking([\"10h\", \"Jh\", \"Qh\", \"Ah\", \"Kh\"]) ➞ \"Royal Flush\"<br>\n",
    "> poker_hand_ranking([\"3h\", \"5h\", \"Qs\", \"9h\", \"Ad\"]) ➞ \"High Card\"<br>\n",
    "> poker_hand_ranking([\"10s\", \"10c\", \"8d\", \"10d\", \"10h\"]) ➞ \"Four of a Kind\"<br>"
   ]
  },
  {
   "cell_type": "code",
   "execution_count": 116,
   "metadata": {
    "tags": []
   },
   "outputs": [],
   "source": [
    "suits = ['h', 's', 'c', 'd']\n",
    "values = {'A':14, 'K':13, 'Q':12, 'J':11, '10':10, '9':9, '8':8, '7':7, '6':6, '5':5, '4':4, '3':3, '2':2}"
   ]
  },
  {
   "cell_type": "code",
   "execution_count": 181,
   "metadata": {
    "tags": []
   },
   "outputs": [],
   "source": [
    "# gets a list of suits\n",
    "\n",
    "def seperateSuit(hand):\n",
    "    handSuits = ['These', 'are', 'five', 'place', 'holders']\n",
    "    for card in hand:\n",
    "        if card[1] not in suits:\n",
    "            handSuits[hand.index(card)] = card[2]\n",
    "        else:\n",
    "            handSuits[hand.index(card)] = card[1]\n",
    "    return handSuits"
   ]
  },
  {
   "cell_type": "code",
   "execution_count": 220,
   "metadata": {
    "tags": []
   },
   "outputs": [],
   "source": [
    "# gets a list of values\n",
    "\n",
    "def seperateValues(hand):\n",
    "    handValues = ['These', 'are', 'five', 'place', 'holders']\n",
    "    i = 0\n",
    "    for card in hand:\n",
    "        handValues[i] = card[0] \n",
    "        if card[1] not in suits:\n",
    "            handValues[i] += card[1]\n",
    "        i += 1\n",
    "\n",
    "    return handValues"
   ]
  },
  {
   "cell_type": "code",
   "execution_count": 239,
   "metadata": {
    "tags": []
   },
   "outputs": [],
   "source": [
    "# sorts the values of the cards by rank\n",
    "\n",
    "def sortValues(handValues):\n",
    "    sortedValues = []\n",
    "    for value in handValues:\n",
    "        sortedValues.append(values[value])\n",
    "    sortedValues.sort()\n",
    "    return sortedValues"
   ]
  },
  {
   "cell_type": "code",
   "execution_count": 215,
   "metadata": {
    "tags": []
   },
   "outputs": [],
   "source": [
    "# detects a flush\n",
    "\n",
    "def flush(handSuits):\n",
    "    return len(set(handSuits)) == 1"
   ]
  },
  {
   "cell_type": "code",
   "execution_count": 120,
   "metadata": {
    "tags": []
   },
   "outputs": [],
   "source": [
    "# detects a straight\n",
    "\n",
    "def straight(handValues = []):\n",
    "    straight = True\n",
    "    handValues = sortValues(handValues)\n",
    "    i = 0\n",
    "    while i < 4:\n",
    "        if (handValues[i] + 1) != handValues[i+1]:\n",
    "            straight = False\n",
    "            break\n",
    "        i += 1\n",
    "    return straight"
   ]
  },
  {
   "cell_type": "code",
   "execution_count": 190,
   "metadata": {
    "tags": []
   },
   "outputs": [],
   "source": [
    "# detects values of a kind, given the desired replicate\n",
    "\n",
    "def ofKind(handValues = [], replicate = 0):\n",
    "    for value in handValues:\n",
    "        if handValues.count(value) == replicate:\n",
    "            return True\n",
    "    return False"
   ]
  },
  {
   "cell_type": "code",
   "execution_count": 122,
   "metadata": {
    "tags": []
   },
   "outputs": [],
   "source": [
    "# detects a royal flush\n",
    "\n",
    "def royalFlush(handSuits = [], handValues = []):\n",
    "    if flush(handSuits):\n",
    "        if set(handValues) == set(['A', 'K', 'Q', 'J', '10']):\n",
    "            return True\n",
    "    return False"
   ]
  },
  {
   "cell_type": "code",
   "execution_count": 123,
   "metadata": {
    "tags": []
   },
   "outputs": [],
   "source": [
    "#detects a straight flush\n",
    "\n",
    "def straightFlush(handSuits = [], handValues = []):\n",
    "    if flush(handSuits):\n",
    "        if straight(handValues):\n",
    "            return True\n",
    "    return False"
   ]
  },
  {
   "cell_type": "code",
   "execution_count": 209,
   "metadata": {
    "tags": []
   },
   "outputs": [],
   "source": [
    "#detects a full house\n",
    "\n",
    "def fullHouse(handValues):\n",
    "    return ofKind(handValues, 2) and len(set(handValues)) == 2"
   ]
  },
  {
   "cell_type": "code",
   "execution_count": 216,
   "metadata": {
    "tags": []
   },
   "outputs": [],
   "source": [
    "# detects two pair\n",
    "\n",
    "def twoPair(handValues):\n",
    "    return len(set(handValues)) == 3"
   ]
  },
  {
   "cell_type": "code",
   "execution_count": 222,
   "metadata": {},
   "outputs": [],
   "source": [
    "# big poppa hand rater\n",
    "\n",
    "def poker_hand_rating(hand = []):\n",
    "    handSuits = seperateSuit(hand)\n",
    "    handValues = seperateValues(hand)\n",
    "    if royalFlush(handSuits, handValues):\n",
    "        print(\"Royal Flush\")\n",
    "    elif straightFlush(handSuits, handValues):\n",
    "        print(\"Straight Flush\")\n",
    "    elif ofKind(handValues, 4):\n",
    "        print(\"Four of a Kind\")\n",
    "    elif fullHouse(handValues):\n",
    "        print(\"Full House\")\n",
    "    elif flush(handSuits):\n",
    "        print(\"Flush\")\n",
    "    elif straight(handValues):\n",
    "        print(\"Straight\")\n",
    "    elif ofKind(handValues, 3):\n",
    "        print(\"Three of a Kind\")\n",
    "    elif twoPair(handValues):\n",
    "        print(\"Two Pair\")\n",
    "    elif ofKind(handValues, 2):\n",
    "        print(\"Pair\")\n",
    "    else:\n",
    "        print(\"High Card\")"
   ]
  },
  {
   "cell_type": "code",
   "execution_count": 244,
   "metadata": {
    "tags": []
   },
   "outputs": [
    {
     "name": "stdout",
     "output_type": "stream",
     "text": [
      "Your hand: ['Kd', '9d', 'Qd', '10d', 'Jd']\n",
      "Straight Flush\n"
     ]
    }
   ],
   "source": [
    "# give it a hand (--of cards--, though it also appreciates applause)\n",
    "\n",
    "hand = [\"Kd\", \"9d\", \"Qd\", \"10d\", \"Jd\"]\n",
    "print(\"Your hand: {}\".format(hand))\n",
    "poker_hand_rating(hand)"
   ]
  },
  {
   "cell_type": "markdown",
   "metadata": {},
   "source": [
    "#### A little flavour from Brian Lynch"
   ]
  },
  {
   "cell_type": "code",
   "execution_count": 227,
   "metadata": {
    "tags": []
   },
   "outputs": [
    {
     "name": "stdout",
     "output_type": "stream",
     "text": [
      "Original hand: ['4d', 'Kc', 'Jh', '7s', '6c']\n",
      "Recoded hand: ['4♦', 'K♣', 'J♥', '7♠', '6♣']\n"
     ]
    }
   ],
   "source": [
    "# convert the letter suit to the actual symbol in the ASCII codes for a given card\n",
    "def recode_card(card):\n",
    "    symbol_map = {'c': '\\u2663', 'd': '\\u2666', 'h': '\\u2665', 's': '\\u2660'}\n",
    "    card_new = card[:-1]\n",
    "    card_new += symbol_map[card[-1]]\n",
    "    return card_new\n",
    "\n",
    "# apply the recode_card function to each card in a hand\n",
    "def recode_hand(hand):\n",
    "    return [recode_card(c) for c in hand]\n",
    "\n",
    "# example usage\n",
    "hand = ['4d','Kc','Jh','7s','6c']\n",
    "hand_recoded = recode_hand(hand)\n",
    "print(f\"Original hand: {hand}\")\n",
    "print(f\"Recoded hand: {hand_recoded}\")"
   ]
  },
  {
   "cell_type": "markdown",
   "metadata": {},
   "source": [
    "------------\n",
    "### **Stretch Content**\n",
    "\n",
    "#### 2.  Implement a function `winner_is` that returns the winner given a dictionary with different players and their hands. \n",
    "**Example**\n",
    "\n",
    "We define dictionary like\n",
    "```python\n",
    "round_1 = {\"John\" = [\"10h\", \"Jh\", \"Qh\", \"Ah\", \"Kh\"], \n",
    "        \"Peter\" = [\"3h\", \"5h\", \"Qs\", \"9h\", \"Ad\"]}\n",
    "```\n",
    "\n",
    "Our function returns the name of the winner:\n",
    "> winner_is(round_1) --> \"John\"\n",
    "\n",
    "One table can have up to 10 players.\n"
   ]
  },
  {
   "cell_type": "code",
   "execution_count": null,
   "metadata": {},
   "outputs": [],
   "source": []
  },
  {
   "cell_type": "code",
   "execution_count": null,
   "metadata": {},
   "outputs": [],
   "source": []
  },
  {
   "cell_type": "code",
   "execution_count": null,
   "metadata": {},
   "outputs": [],
   "source": []
  },
  {
   "cell_type": "code",
   "execution_count": null,
   "metadata": {},
   "outputs": [],
   "source": []
  },
  {
   "cell_type": "markdown",
   "metadata": {},
   "source": [
    "#### 3. Create a function `distribute_cards` that randomly generates and gives 5 cards to every player given a list of player names.\n",
    "\n",
    "**Example**\n",
    "\n",
    "> distribute_cards([\"John\",\"Peter\"])  -> round_1 = {\"John\" = [\"10h\", \"Jh\", \"Qh\", \"Ah\", \"Kh\"], \n",
    "        \"Peter\" = [\"3h\", \"5h\", \"Qs\", \"9h\", \"Ad\"]\n",
    "}"
   ]
  },
  {
   "cell_type": "code",
   "execution_count": null,
   "metadata": {},
   "outputs": [],
   "source": []
  },
  {
   "cell_type": "code",
   "execution_count": null,
   "metadata": {},
   "outputs": [],
   "source": []
  },
  {
   "cell_type": "code",
   "execution_count": null,
   "metadata": {},
   "outputs": [],
   "source": []
  },
  {
   "cell_type": "code",
   "execution_count": null,
   "metadata": {},
   "outputs": [],
   "source": []
  }
 ],
 "metadata": {
  "kernelspec": {
   "display_name": "Python 3 (ipykernel)",
   "language": "python",
   "name": "python3"
  },
  "language_info": {
   "codemirror_mode": {
    "name": "ipython",
    "version": 3
   },
   "file_extension": ".py",
   "mimetype": "text/x-python",
   "name": "python",
   "nbconvert_exporter": "python",
   "pygments_lexer": "ipython3",
   "version": "3.10.9"
  }
 },
 "nbformat": 4,
 "nbformat_minor": 4
}
